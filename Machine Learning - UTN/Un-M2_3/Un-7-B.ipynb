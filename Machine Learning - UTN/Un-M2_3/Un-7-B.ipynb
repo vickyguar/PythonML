{
 "cells": [
  {
   "cell_type": "markdown",
   "metadata": {},
   "source": [
    "# Metodos de preprocesamiento de datos\n",
    "Métodos de preparacion de nuestros ejemplos para alimentar nuestros modelos.\n",
    "___\n",
    "\n",
    "# Min Max Scaler"
   ]
  },
  {
   "cell_type": "code",
   "execution_count": 1,
   "metadata": {},
   "outputs": [],
   "source": [
    "# Todas las herramientas están dentro del submodulo preprocessing de sklearn\n",
    "import numpy as np\n",
    "from sklearn import preprocessing"
   ]
  },
  {
   "cell_type": "code",
   "execution_count": 2,
   "metadata": {},
   "outputs": [
    {
     "data": {
      "text/plain": [
       "array([[1, 2, 3],\n",
       "       [4, 5, 6],\n",
       "       [7, 8, 9]])"
      ]
     },
     "execution_count": 2,
     "metadata": {},
     "output_type": "execute_result"
    }
   ],
   "source": [
    "# Creamos una matriz de datos\n",
    "x = np.array([[1, 2,  3], [4,  5, 6], [7, 8, 9]])\n",
    "x"
   ]
  },
  {
   "cell_type": "markdown",
   "metadata": {},
   "source": [
    "Imaginemos que estos datos los queremos escalar\n",
    "Pixel de una imagen en blanco y negro: 0-255 es un rango relativamente alto para una imagen en escala de grises muchas veces queremos entrenar el modelo en un rango acotado ==> tiene beneficios a nivel de convergencia de nuestro modelo para los datos entrenados.\n",
    "\n",
    "Es de importancia en modelos más complejo como redes neuronales. Para mejorar el tiempo de convergencia ==> queremos que nuestros datos estén acotados"
   ]
  },
  {
   "cell_type": "code",
   "execution_count": 18,
   "metadata": {},
   "outputs": [
    {
     "data": {
      "text/plain": [
       "array([[0. , 0. , 0. ],\n",
       "       [0.5, 0.5, 0.5],\n",
       "       [1. , 1. , 1. ]])"
      ]
     },
     "execution_count": 18,
     "metadata": {},
     "output_type": "execute_result"
    }
   ],
   "source": [
    "minmax = preprocessing.MinMaxScaler(feature_range = (0, 1))\n",
    "\n",
    "# primero fiteamos y después usamos la erramienta de transformación\n",
    "minmax.fit(x).transform(x)\n",
    "\n",
    "# funciona por columnas.\n"
   ]
  },
  {
   "cell_type": "code",
   "execution_count": 4,
   "metadata": {},
   "outputs": [
    {
     "name": "stdout",
     "output_type": "stream",
     "text": [
      "0.0\n",
      "0.5\n",
      "1.0\n"
     ]
    }
   ],
   "source": [
    "# Para primera columna\n",
    "x_std_0 = (1 - 1)/(7 - 1)\n",
    "print(x_std_0)\n",
    "\n",
    "x_std_4 = (4 - 1)/(7 - 1) \n",
    "print(x_std_4)\n",
    "\n",
    "x_std_7 = (7 - 1)/(7 - 1) \n",
    "print(x_std_7)\n",
    "\n",
    "# al valor de la columna se le resta el mínimo de la columna\n",
    "# luego se lo divide por el rango máx-min"
   ]
  },
  {
   "cell_type": "markdown",
   "metadata": {},
   "source": [
    "# Scaler/ Estandarización\n",
    "A cada uno de los valores de la matriz de entrada x, se le resta la **media global**, y lo dividimos por el **desvío estandar** de la muestra. \n",
    "\n",
    "Transformamos nuestros datos para: media de 0, desvío estandar de 1."
   ]
  },
  {
   "cell_type": "code",
   "execution_count": 5,
   "metadata": {
    "scrolled": true
   },
   "outputs": [
    {
     "data": {
      "text/plain": [
       "array([[-1.22474487, -1.22474487, -1.22474487],\n",
       "       [ 0.        ,  0.        ,  0.        ],\n",
       "       [ 1.22474487,  1.22474487,  1.22474487]])"
      ]
     },
     "execution_count": 5,
     "metadata": {},
     "output_type": "execute_result"
    }
   ],
   "source": [
    "standar = preprocessing.StandardScaler().fit(x)\n",
    "standar.transform(x) "
   ]
  },
  {
   "cell_type": "code",
   "execution_count": 6,
   "metadata": {},
   "outputs": [
    {
     "data": {
      "text/plain": [
       "array([[1, 2, 3],\n",
       "       [4, 5, 6],\n",
       "       [7, 8, 9]])"
      ]
     },
     "execution_count": 6,
     "metadata": {},
     "output_type": "execute_result"
    }
   ],
   "source": [
    "x"
   ]
  },
  {
   "cell_type": "code",
   "execution_count": 7,
   "metadata": {},
   "outputs": [
    {
     "name": "stdout",
     "output_type": "stream",
     "text": [
      "-1.2247448713915892\n",
      "0.0\n",
      "1.2247448713915892\n"
     ]
    }
   ],
   "source": [
    "#np.std(x[:,0]) = np.std([1,4,7]) = desviación standard\n",
    "x_std_0 = (1 - 4)/np.std(x[:,0])\n",
    "print(x_std_0)\n",
    "\n",
    "x_std_4 = (4 - 4)/np.std(x[:,0])\n",
    "print(x_std_4)\n",
    "\n",
    "x_std_7 = (7 - 4)/np.std(x[:,0])\n",
    "print(x_std_7)\n",
    "\n",
    "# desvío estandar: std"
   ]
  },
  {
   "cell_type": "code",
   "execution_count": 8,
   "metadata": {},
   "outputs": [
    {
     "data": {
      "text/plain": [
       "2.449489742783178"
      ]
     },
     "execution_count": 8,
     "metadata": {},
     "output_type": "execute_result"
    }
   ],
   "source": [
    "np.std(x[:,0])"
   ]
  },
  {
   "cell_type": "code",
   "execution_count": 9,
   "metadata": {},
   "outputs": [
    {
     "data": {
      "text/plain": [
       "array([[-1.22474487, -1.22474487, -1.22474487],\n",
       "       [ 0.        ,  0.        ,  0.        ],\n",
       "       [ 1.22474487,  1.22474487,  1.22474487]])"
      ]
     },
     "execution_count": 9,
     "metadata": {},
     "output_type": "execute_result"
    }
   ],
   "source": [
    "x2 = np.array([[1, 2,  3], [4,  5, 6], [7, 8, 9]])\n",
    "x2\n",
    "standar = preprocessing.StandardScaler().fit(x2)\n",
    "standar.transform(x2) "
   ]
  },
  {
   "cell_type": "markdown",
   "metadata": {},
   "source": [
    "# Binarización\n",
    "Transformamos nuestra matriz de entrada en datos binarizados. Son de clase 0 o clase 1."
   ]
  },
  {
   "cell_type": "code",
   "execution_count": 10,
   "metadata": {},
   "outputs": [
    {
     "data": {
      "text/plain": [
       "array([[1, 2, 3],\n",
       "       [4, 5, 6],\n",
       "       [7, 8, 9]])"
      ]
     },
     "execution_count": 10,
     "metadata": {},
     "output_type": "execute_result"
    }
   ],
   "source": [
    "x"
   ]
  },
  {
   "cell_type": "code",
   "execution_count": 11,
   "metadata": {},
   "outputs": [
    {
     "data": {
      "text/plain": [
       "array([[0, 0, 0],\n",
       "       [0, 0, 0],\n",
       "       [1, 1, 1]])"
      ]
     },
     "execution_count": 11,
     "metadata": {},
     "output_type": "execute_result"
    }
   ],
   "source": [
    "# threshold: umbral.\n",
    "# todos los datos <=6 van a la etiqueta 0, los mayores van a la etiqueta 1\n",
    "datosb = preprocessing.Binarizer(threshold = 6).transform(x)\n",
    "datosb"
   ]
  },
  {
   "cell_type": "markdown",
   "metadata": {},
   "source": [
    "# Normalización\n",
    "todas las componentes del vector son normalizadas para que la longitud del vector sea 1."
   ]
  },
  {
   "cell_type": "code",
   "execution_count": 12,
   "metadata": {},
   "outputs": [
    {
     "data": {
      "text/plain": [
       "array([[1, 2, 3],\n",
       "       [4, 5, 6],\n",
       "       [7, 8, 9]])"
      ]
     },
     "execution_count": 12,
     "metadata": {},
     "output_type": "execute_result"
    }
   ],
   "source": [
    "x"
   ]
  },
  {
   "cell_type": "code",
   "execution_count": 13,
   "metadata": {},
   "outputs": [
    {
     "data": {
      "text/plain": [
       "array([[0.08333333, 0.13333333, 0.16666667],\n",
       "       [0.33333333, 0.33333333, 0.33333333],\n",
       "       [0.58333333, 0.53333333, 0.5       ]])"
      ]
     },
     "execution_count": 13,
     "metadata": {},
     "output_type": "execute_result"
    }
   ],
   "source": [
    "# la norma l1: norma euclidea de distancia. Es la distancia en su forma más intuitiva\n",
    "datos_n = preprocessing.normalize(x, norm = 'l1', axis = 0)\n",
    "datos_n"
   ]
  }
 ],
 "metadata": {
  "kernelspec": {
   "display_name": "Python 3 (ipykernel)",
   "language": "python",
   "name": "python3"
  },
  "language_info": {
   "codemirror_mode": {
    "name": "ipython",
    "version": 3
   },
   "file_extension": ".py",
   "mimetype": "text/x-python",
   "name": "python",
   "nbconvert_exporter": "python",
   "pygments_lexer": "ipython3",
   "version": "3.9.13"
  }
 },
 "nbformat": 4,
 "nbformat_minor": 4
}
