{
 "cells": [
  {
   "cell_type": "markdown",
   "metadata": {},
   "source": [
    "Matplotlib - Descripciones\n",
    "=="
   ]
  },
  {
   "cell_type": "markdown",
   "metadata": {},
   "source": [
    "Vamos a iniciar a trabajar con matplotlib aprendiendo a agregar comentarios y descripciones a los gráficos, para ello crearemos un gráfico con tres curvas en el dominio x = [0, 2] y adicionaremos 100 puntos equiespaciados dentro del dominio mediante:"
   ]
  },
  {
   "cell_type": "code",
   "execution_count": 1,
   "metadata": {},
   "outputs": [],
   "source": [
    "import numpy as np"
   ]
  },
  {
   "cell_type": "markdown",
   "metadata": {},
   "source": [
    "Luego podemos crear las curvas utilizando el método plot() en donde pasamos como parámetros:\n",
    ">Primero los puntos correspondientes a la coordenada en x.\n",
    "\n",
    ">Segundo los puntos de la coordenada en y.\n",
    "\n",
    ">Tercero el color de línea o el tipo de representación para los puntos de la línea, si en lugar de poner ‘pink’ ponemos ‘+’ cada punto es representado por un signo de (+).\n",
    "\n",
    ">Cuarto el atributo label con la descripción de la curva. Para que la descripción salga en pantalla debemos agregamos el método legend().\n"
   ]
  },
  {
   "cell_type": "code",
   "execution_count": 2,
   "metadata": {},
   "outputs": [
    {
     "data": {
      "text/plain": [
       "array([0.        , 0.02020202, 0.04040404, 0.06060606, 0.08080808,\n",
       "       0.1010101 , 0.12121212, 0.14141414, 0.16161616, 0.18181818,\n",
       "       0.2020202 , 0.22222222, 0.24242424, 0.26262626, 0.28282828,\n",
       "       0.3030303 , 0.32323232, 0.34343434, 0.36363636, 0.38383838,\n",
       "       0.4040404 , 0.42424242, 0.44444444, 0.46464646, 0.48484848,\n",
       "       0.50505051, 0.52525253, 0.54545455, 0.56565657, 0.58585859,\n",
       "       0.60606061, 0.62626263, 0.64646465, 0.66666667, 0.68686869,\n",
       "       0.70707071, 0.72727273, 0.74747475, 0.76767677, 0.78787879,\n",
       "       0.80808081, 0.82828283, 0.84848485, 0.86868687, 0.88888889,\n",
       "       0.90909091, 0.92929293, 0.94949495, 0.96969697, 0.98989899,\n",
       "       1.01010101, 1.03030303, 1.05050505, 1.07070707, 1.09090909,\n",
       "       1.11111111, 1.13131313, 1.15151515, 1.17171717, 1.19191919,\n",
       "       1.21212121, 1.23232323, 1.25252525, 1.27272727, 1.29292929,\n",
       "       1.31313131, 1.33333333, 1.35353535, 1.37373737, 1.39393939,\n",
       "       1.41414141, 1.43434343, 1.45454545, 1.47474747, 1.49494949,\n",
       "       1.51515152, 1.53535354, 1.55555556, 1.57575758, 1.5959596 ,\n",
       "       1.61616162, 1.63636364, 1.65656566, 1.67676768, 1.6969697 ,\n",
       "       1.71717172, 1.73737374, 1.75757576, 1.77777778, 1.7979798 ,\n",
       "       1.81818182, 1.83838384, 1.85858586, 1.87878788, 1.8989899 ,\n",
       "       1.91919192, 1.93939394, 1.95959596, 1.97979798, 2.        ])"
      ]
     },
     "execution_count": 2,
     "metadata": {},
     "output_type": "execute_result"
    }
   ],
   "source": [
    "x = np.linspace(0, 2, 100)\n",
    "x"
   ]
  },
  {
   "cell_type": "code",
   "execution_count": 3,
   "metadata": {},
   "outputs": [
    {
     "data": {
      "text/plain": [
       "<matplotlib.legend.Legend at 0x1b27b995eb0>"
      ]
     },
     "execution_count": 3,
     "metadata": {},
     "output_type": "execute_result"
    },
    {
     "data": {
      "image/png": "[encoded data removed]",
      "text/plain": [
       "<Figure size 640x480 with 1 Axes>"
      ]
     },
     "metadata": {},
     "output_type": "display_data"
    }
   ],
   "source": [
    "import matplotlib.pyplot as plt # Nos quedamos con el submódulo pyplot\n",
    "                                # lo importamos con el alias plt\n",
    "\n",
    "# creamos un espacio lineal entre 0 y 2, con 100 puntos\n",
    "x = np.linspace(0, 2, 100) \n",
    "\n",
    "# Llamamos a la función plot y pyplot (plt)\n",
    "# (x, y, color y tipo de linea, label = 'título')\n",
    "plt.plot(x, x, 'pink', label = 'lineal')\n",
    "plt.plot(x, x**2, label = 'cuadratica') #** equivale a ^\n",
    "plt.plot(x, x**3, label = 'cubica')\n",
    "\n",
    "# le pedimos a pyplot que explicite las leyendas\n",
    "# que nos muestre las labels en el gráfico\n",
    "plt.legend() "
   ]
  },
  {
   "cell_type": "code",
   "execution_count": null,
   "metadata": {},
   "outputs": [],
   "source": [
    "# Hay infinidad de argumentos que puede recibir la funcion\n",
    "\n",
    "# Comandos mágicos de la notebook\n",
    "# le damos un argumento a matplotlib que se llama notebook\n",
    "%matplotlib notebook\n",
    "\n",
    "import matplotlib.pyplot as plt \n",
    "x = np.linspace(0, 2, 100)\n",
    "plt.plot(x, x, 'pink', label = 'lineal')\n",
    "plt.plot(x, x**2, label = 'cuadratica')\n",
    "plt.plot(x, x**3, label = 'cubica')\n",
    "\n",
    "# Que se vean las labels\n",
    "plt.legend()\n",
    "\n",
    "# Le damos etiquetas a los ejes\n",
    "plt.xlabel('Eje X')\n",
    "plt.ylabel('Eje Y')\n",
    "\n",
    "# Le damos un título al gráfico\n",
    "plt.title(\"Estructura de gráfico\")\n",
    "\n",
    "# Limitamos el tamaño de los ejes: \n",
    "# el eje x va de 0 a 2\n",
    "# el eje y va de 0 a 8\n",
    "plt.xlim(0, 2)\n",
    "plt.ylim(0, 8)\n",
    "\n",
    "# Agregamos una grilla\n",
    "plt.grid()"
   ]
  },
  {
   "cell_type": "markdown",
   "metadata": {},
   "source": [
    "MARCAS\n",
    "=="
   ]
  },
  {
   "cell_type": "markdown",
   "metadata": {},
   "source": [
    "Diferentes figuras que nos permiten marcar puntos específicos en un gráfico de línea.\n",
    "Son símbolos característicos que usamos para graficar un gráfico 2D simple, uno de disperción o marcar puntos específicos (como podría ser, por ejemplo, la intersección de estas curvas)"
   ]
  },
  {
   "cell_type": "code",
   "execution_count": 5,
   "metadata": {},
   "outputs": [],
   "source": [
    "import matplotlib.pyplot as plt\n",
    "\n",
    "# Importamos el del submodulo lines de matplotlib, lineas 2D\n",
    "from matplotlib.lines import Line2D\n",
    "\n",
    "# Recorremos y enumerado los elementos que estan dentro de la \n",
    "# variable \"marcadores\". Lo que hacemos es graficar esos marcadores\n",
    "# las variables \"i\" y \"marker\" se van a asignar a los valores retornados\n",
    "# por la función enumerate() en cada iteración\n",
    "for i, marker in enumerate(Line2D.markers):\n",
    "    plt.scatter(i%10, i, marker = marker, s = 150) \n",
    "    # plt.scatter(x, y, tipo de marcador, tamaño del marcador)\n",
    "    # scatter = disperción\n",
    "plt.show()\n"
   ]
  },
  {
   "cell_type": "markdown",
   "metadata": {},
   "source": [
    "ESTILOS DE LÍNEA\n",
    "=="
   ]
  },
  {
   "cell_type": "code",
   "execution_count": 6,
   "metadata": {},
   "outputs": [],
   "source": [
    "# Tambien tenemos diferentes tipos de lineas\n",
    "# para hacer gráficos\n",
    "\n",
    "import matplotlib.pyplot as plt\n",
    "import numpy as np\n",
    "x = np.linspace(0, 2, 100)\n",
    "plt.plot(x, x, '.', label='.')\n",
    "plt.plot(x, x**2, '--', label='--')\n",
    "plt.plot(x, x**3, '-.', label='-.')\n",
    "plt.xlabel('Eje X')\n",
    "plt.ylabel('Eje Y')\n",
    "plt.title(\"Estructura de gráfico\")\n",
    "plt.show()\n"
   ]
  },
  {
   "cell_type": "markdown",
   "metadata": {},
   "source": [
    "2.- Gráficos de línea\n",
    "=="
   ]
  },
  {
   "cell_type": "code",
   "execution_count": 7,
   "metadata": {},
   "outputs": [],
   "source": [
    "y2 = [1,4,9,16,25,36,49,64]\n",
    "plt.plot(y2) \n",
    "# No la estamos graficando en función de una variable x\n",
    "# Automaticamente asigna un índice a cada parámetro de la lista\n",
    "# Grafico de los elementos de y2 en función de sus índices\n",
    "plt.show()"
   ]
  },
  {
   "cell_type": "markdown",
   "metadata": {},
   "source": [
    "3.- Gráficos de dispersión\n",
    "=="
   ]
  },
  {
   "cell_type": "code",
   "execution_count": 8,
   "metadata": {},
   "outputs": [],
   "source": [
    "import numpy as np\n",
    "# Creamos una serie de datos que se distribuya de manera aleatoria\n",
    "# en un plano (x, y)\n",
    "\n",
    "# Agrego la semilla del random\n",
    "# Generamos datos pseudoaleatorios\n",
    "np.random.seed(7)\n",
    "\n",
    "# Creo una matriz 2x20, donde cada elemento es un número aleatorio generado de forma uniforme en el intervalo [0, 1).\n",
    "# Generamos 20 datos. Cada uno de los datos tiene 2 dimensiones\n",
    "datos = np.random.rand(2, 20) \n",
    "plt.scatter(datos[0], datos[1])\n",
    "plt.show()"
   ]
  },
  {
   "cell_type": "markdown",
   "metadata": {},
   "source": [
    "Grupos de dispersión\n",
    "=="
   ]
  },
  {
   "cell_type": "code",
   "execution_count": 9,
   "metadata": {},
   "outputs": [],
   "source": [
    "import matplotlib.pyplot as plt\n",
    "\n",
    "# Vamos a usar la herramienta scikit learn\n",
    "# Estamos importando, del submodulo datasets, la función make_blobs\n",
    "from sklearn.datasets import make_blobs\n",
    "\n",
    "# Queremos generar un conjunto de datos, de numeros aleatorios, \n",
    "# pero conjuntos que tengan características diferentes entre ellos\n",
    "\n",
    "# make_blobs(20 muestras aleatorias, repartidas en 4 centros, \"semilla aleatoria\")\n",
    "# La funcion devuelve los datos, y la etiqueta de esos datos. \n",
    "# Hay 4 etiquetas (pq hay 4 centros) --> 0, 1, 2, 3\n",
    "datos_mb, features = make_blobs(n_samples = 20, centers = 4) # random_state = 3\n",
    "\n",
    "# Graficamos. Etiquetamos segun los features\n",
    "plt.scatter(datos_mb[:, 0], datos_mb[:, 1], marker = 'o', c = features)  \n",
    "plt.show()\n",
    "\n",
    "# con el : queremos que tome todas esas filas"
   ]
  },
  {
   "cell_type": "markdown",
   "metadata": {},
   "source": [
    "4.- Polinomios\n",
    "=="
   ]
  },
  {
   "cell_type": "code",
   "execution_count": 10,
   "metadata": {},
   "outputs": [
    {
     "data": {
      "text/plain": [
       "[<matplotlib.lines.Line2D at 0x1b27d072a90>,\n",
       " <matplotlib.lines.Line2D at 0x1b27d0729a0>]"
      ]
     },
     "execution_count": 10,
     "metadata": {},
     "output_type": "execute_result"
    }
   ],
   "source": [
    "# Creamos una lista entre -4 y (5 - 1)\n",
    "x = list(range(-4 , 5))\n",
    "# Creamos una lista y donde cada elemento es el cuadrado de los elementos de x\n",
    "y = [i**2 for i in x]\n",
    "\n",
    "# Creamos un espacio lineal entre -4 y 4 --> hace la curva más suave\n",
    "b = np.linspace(-4, 4, 200)\n",
    "\n",
    "# fitteamos un polinomio que se ajuste a los datos y en funcion de x\n",
    "z = np.polyfit(x, y, 2)\n",
    "\n",
    "# Creamos una clase polinomio con los grados anteriores\n",
    "# La alimentamos con los valores de la funcion fitteada\n",
    "p = np.poly1d(z)\n",
    "\n",
    "plt.plot(x, y, 'x', b, p(b))"
   ]
  },
  {
   "cell_type": "markdown",
   "metadata": {},
   "source": [
    "5.- Mapa de colores\n",
    "=="
   ]
  },
  {
   "cell_type": "markdown",
   "metadata": {},
   "source": [
    "Secuencia de colores que van desde un tono hasta otro tono diferente de colores. Nos permite graficar valores numericos y visualizarlo segun su escala de color.\n",
    "Ejemplo: temperatura, altura, número entre 0 y 1 en escala de grises."
   ]
  },
  {
   "cell_type": "code",
   "execution_count": null,
   "metadata": {},
   "outputs": [],
   "source": [
    "import matplotlib.pyplot as plt\n",
    "import numpy as np\n",
    "\n",
    "# Generamos un subplot: una grilla que contiene 4 graficos \n",
    "# Figura con grillas de ejes 2x2 \n",
    "# retorna la figura en si misma, y los ejes de esa figura\n",
    "fig, axes = plt.subplots(2, 2)  \n",
    "fig.suptitle('Este es un título')"
   ]
  },
  {
   "cell_type": "code",
   "execution_count": null,
   "metadata": {
    "scrolled": true
   },
   "outputs": [],
   "source": [
    "import numpy as np\n",
    "import matplotlib.pyplot as plt\n",
    "\n",
    "cmaps = [\n",
    "         ('Sequential', [\n",
    "            'Greys', 'Purples', 'Blues', 'Greens', 'Oranges', 'Reds',\n",
    "            'YlOrBr', 'YlOrRd', 'OrRd', 'PuRd', 'RdPu', 'BuPu',\n",
    "            'GnBu', 'PuBu', 'YlGnBu', 'PuBuGn', 'BuGn', 'YlGn']),\n",
    "         ('Sequential (2)', [\n",
    "            'binary', 'gist_yarg', 'gist_gray', 'gray', 'bone', 'pink',\n",
    "            'spring', 'summer', 'autumn', 'winter', 'cool', 'Wistia',\n",
    "            'hot', 'afmhot', 'gist_heat', 'copper']),\n",
    "        ]\n",
    "\n",
    "\n",
    "gradient = np.linspace(0, 1, 256)\n",
    "gradient = np.vstack((gradient, gradient))      \n",
    "\n",
    "def plot_color_gradients(clase_de_mapa, lista_de_datos):\n",
    " \n",
    "    numero_de_filas = len(lista_de_datos)\n",
    "    altura = 0.35 + 0.15 + (numero_de_filas + (numero_de_filas - 1)*0.1)*0.22\n",
    "    fig, axes = plt.subplots(nrows = numero_de_filas, figsize=(6.4, altura))     \n",
    "    fig.subplots_adjust(top = 1 - .35/altura, bottom = .15/altura, left = 0.2, right = 0.99)\n",
    "\n",
    "    axes[0].set_title('Mapa de colores de tipo: ' + clase_de_mapa , fontsize=14)\n",
    "\n",
    "    for ax, nombre in zip(axes, lista_de_datos):\n",
    "        ax.imshow(gradient, aspect = 'auto', cmap = plt.get_cmap(nombre))\n",
    "        ax.text(-.01, .5, nombre, va = 'center', ha = 'right', fontsize = 10,transform = ax.transAxes)\n",
    "\n",
    "    for ax in axes:\n",
    "        ax.set_axis_off()\n",
    "\n",
    "for clase_de_mapa, lista_de_datos in cmaps:\n",
    "    plot_color_gradients(clase_de_mapa, lista_de_datos)\n",
    "\n",
    "plt.show()\n"
   ]
  },
  {
   "cell_type": "code",
   "execution_count": 13,
   "metadata": {},
   "outputs": [
    {
     "name": "stdout",
     "output_type": "stream",
     "text": [
      "50\n"
     ]
    }
   ],
   "source": [
    "import numpy as np\n",
    "import matplotlib.pyplot as plt\n",
    "import matplotlib.colors\n",
    "\n",
    "# Generamos una semilla \n",
    "np.random.seed(7)\n",
    "\n",
    "# Generamos una matriz de 50x2\n",
    "# zip() se utiliza para combinarlos en pares ordenados (x, y). \n",
    "# Devuelve dos listas, una con las x y otra con las y.\n",
    "# *: desempaqueta\n",
    "x, y = zip(*np.random.rand(50,2))\n",
    "\n",
    "# Definimos una lista que se llama color\n",
    "color = []\n",
    "print(len(x))\n",
    "for i in range(0,50):\n",
    "    color.append(x[i] + y[i]/2) # El promedio\n",
    "\n",
    "# LinearSegmentedColormap.from_list\n",
    "# Le damos un nombre y que lo cree usando los colores que le mandamos entre [\"\",\"\",\"\"]\n",
    "cmap = matplotlib.colors.LinearSegmentedColormap.from_list(\"\", [\"red\",\"yellow\",\"green\", \"blue\"])\n",
    "plt.scatter(x,y,c = color, cmap = cmap) #'hot'\n",
    "\n",
    "# Que nos grafique al costado del grafico la barra de colores\n",
    "plt.colorbar() \n",
    "plt.show()\n"
   ]
  }
 ],
 "metadata": {
  "kernelspec": {
   "display_name": "Python 3 (ipykernel)",
   "language": "python",
   "name": "python3"
  },
  "language_info": {
   "codemirror_mode": {
    "name": "ipython",
    "version": 3
   },
   "file_extension": ".py",
   "mimetype": "text/x-python",
   "name": "python",
   "nbconvert_exporter": "python",
   "pygments_lexer": "ipython3",
   "version": "3.9.13"
  }
 },
 "nbformat": 4,
 "nbformat_minor": 4
}
